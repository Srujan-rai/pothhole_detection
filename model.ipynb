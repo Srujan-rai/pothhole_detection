{
 "cells": [
  {
   "cell_type": "markdown",
   "metadata": {},
   "source": [
    "Dataset Split"
   ]
  },
  {
   "cell_type": "code",
   "execution_count": 4,
   "metadata": {},
   "outputs": [
    {
     "name": "stdout",
     "output_type": "stream",
     "text": [
      "Dataset split completed!\n"
     ]
    }
   ],
   "source": [
    "import os\n",
    "import random\n",
    "import shutil\n",
    "\n",
    "# Paths\n",
    "dataset_dir = \"dataset\"  # Path to your dataset\n",
    "output_dir = \"DatasetSplit\"  # Output directory for train/val split\n",
    "\n",
    "# Create output directories\n",
    "train_img_dir = os.path.join(output_dir, \"train/images\")\n",
    "val_img_dir = os.path.join(output_dir, \"val/images\")\n",
    "train_lbl_dir = os.path.join(output_dir, \"train/annotations\")\n",
    "val_lbl_dir = os.path.join(output_dir, \"val/annotations\")\n",
    "\n",
    "for dir_path in [train_img_dir, val_img_dir, train_lbl_dir, val_lbl_dir]:\n",
    "    os.makedirs(dir_path, exist_ok=True)\n",
    "\n",
    "# Get all image files\n",
    "image_files = [f for f in os.listdir(dataset_dir) if f.endswith(\".jpg\") or f.endswith(\".png\")]\n",
    "\n",
    "# Shuffle and split (80% train, 20% val)\n",
    "random.seed(42)\n",
    "random.shuffle(image_files)\n",
    "split_idx = int(0.8 * len(image_files))\n",
    "train_files = image_files[:split_idx]\n",
    "val_files = image_files[split_idx:]\n",
    "\n",
    "# Function to copy files\n",
    "def copy_files(file_list, src_dir, img_dst_dir, lbl_dst_dir):\n",
    "    for file_name in file_list:\n",
    "        # Copy image\n",
    "        shutil.copy(os.path.join(src_dir, file_name), img_dst_dir)\n",
    "        # Copy corresponding XML file\n",
    "        xml_file = file_name.replace(\".jpg\", \".xml\").replace(\".png\", \".xml\")\n",
    "        shutil.copy(os.path.join(src_dir, xml_file), lbl_dst_dir)\n",
    "\n",
    "# Copy train and val files\n",
    "copy_files(train_files, dataset_dir, train_img_dir, train_lbl_dir)\n",
    "copy_files(val_files, dataset_dir, val_img_dir, val_lbl_dir)\n",
    "\n",
    "print(\"Dataset split completed!\")\n"
   ]
  },
  {
   "cell_type": "code",
   "execution_count": 3,
   "metadata": {},
   "outputs": [
    {
     "name": "stdout",
     "output_type": "stream",
     "text": [
      "Defaulting to user installation because normal site-packages is not writeable\n",
      "Requirement already satisfied: ultralytics in /home/srujan/.local/lib/python3.10/site-packages (8.2.48)\n",
      "Requirement already satisfied: opencv-python in /home/srujan/.local/lib/python3.10/site-packages (4.10.0.84)\n",
      "Requirement already satisfied: matplotlib in /home/srujan/.local/lib/python3.10/site-packages (3.9.0)\n",
      "Requirement already satisfied: tqdm>=4.64.0 in /home/srujan/.local/lib/python3.10/site-packages (from ultralytics) (4.66.4)\n",
      "Requirement already satisfied: psutil in /home/srujan/.local/lib/python3.10/site-packages (from ultralytics) (6.0.0)\n",
      "Requirement already satisfied: ultralytics-thop>=2.0.0 in /home/srujan/.local/lib/python3.10/site-packages (from ultralytics) (2.0.0)\n",
      "Requirement already satisfied: seaborn>=0.11.0 in /home/srujan/.local/lib/python3.10/site-packages (from ultralytics) (0.13.2)\n",
      "Requirement already satisfied: pillow>=7.1.2 in /home/srujan/.local/lib/python3.10/site-packages (from ultralytics) (11.0.0)\n",
      "Requirement already satisfied: requests>=2.23.0 in /home/srujan/.local/lib/python3.10/site-packages (from ultralytics) (2.32.3)\n",
      "Requirement already satisfied: py-cpuinfo in /home/srujan/.local/lib/python3.10/site-packages (from ultralytics) (9.0.0)\n",
      "Requirement already satisfied: scipy>=1.4.1 in /home/srujan/.local/lib/python3.10/site-packages (from ultralytics) (1.14.0)\n",
      "Requirement already satisfied: numpy<2.0.0,>=1.23.0 in /home/srujan/.local/lib/python3.10/site-packages (from ultralytics) (1.26.4)\n",
      "Requirement already satisfied: torch>=1.8.0 in /home/srujan/.local/lib/python3.10/site-packages (from ultralytics) (2.3.1)\n",
      "Requirement already satisfied: pyyaml>=5.3.1 in /home/srujan/.local/lib/python3.10/site-packages (from ultralytics) (6.0.2)\n",
      "Requirement already satisfied: torchvision>=0.9.0 in /home/srujan/.local/lib/python3.10/site-packages (from ultralytics) (0.18.1)\n",
      "Requirement already satisfied: pandas>=1.1.4 in /home/srujan/.local/lib/python3.10/site-packages (from ultralytics) (2.2.3)\n",
      "Requirement already satisfied: contourpy>=1.0.1 in /home/srujan/.local/lib/python3.10/site-packages (from matplotlib) (1.2.1)\n",
      "Requirement already satisfied: python-dateutil>=2.7 in /home/srujan/.local/lib/python3.10/site-packages (from matplotlib) (2.9.0.post0)\n",
      "Requirement already satisfied: kiwisolver>=1.3.1 in /home/srujan/.local/lib/python3.10/site-packages (from matplotlib) (1.4.5)\n",
      "Requirement already satisfied: fonttools>=4.22.0 in /home/srujan/.local/lib/python3.10/site-packages (from matplotlib) (4.53.0)\n",
      "Requirement already satisfied: pyparsing>=2.3.1 in /home/srujan/.local/lib/python3.10/site-packages (from matplotlib) (3.1.2)\n",
      "Requirement already satisfied: packaging>=20.0 in /home/srujan/.local/lib/python3.10/site-packages (from matplotlib) (24.1)\n",
      "Requirement already satisfied: cycler>=0.10 in /home/srujan/.local/lib/python3.10/site-packages (from matplotlib) (0.12.1)\n",
      "Requirement already satisfied: tzdata>=2022.7 in /home/srujan/.local/lib/python3.10/site-packages (from pandas>=1.1.4->ultralytics) (2024.1)\n",
      "Requirement already satisfied: pytz>=2020.1 in /usr/lib/python3/dist-packages (from pandas>=1.1.4->ultralytics) (2022.1)\n",
      "Requirement already satisfied: six>=1.5 in /usr/lib/python3/dist-packages (from python-dateutil>=2.7->matplotlib) (1.16.0)\n",
      "Requirement already satisfied: urllib3<3,>=1.21.1 in /home/srujan/.local/lib/python3.10/site-packages (from requests>=2.23.0->ultralytics) (1.25.11)\n",
      "Requirement already satisfied: certifi>=2017.4.17 in /home/srujan/.local/lib/python3.10/site-packages (from requests>=2.23.0->ultralytics) (2024.7.4)\n",
      "Requirement already satisfied: idna<4,>=2.5 in /home/srujan/.local/lib/python3.10/site-packages (from requests>=2.23.0->ultralytics) (2.8)\n",
      "Requirement already satisfied: charset-normalizer<4,>=2 in /home/srujan/.local/lib/python3.10/site-packages (from requests>=2.23.0->ultralytics) (3.3.2)\n",
      "Requirement already satisfied: triton==2.3.1 in /home/srujan/.local/lib/python3.10/site-packages (from torch>=1.8.0->ultralytics) (2.3.1)\n",
      "Requirement already satisfied: nvidia-nvtx-cu12==12.1.105 in /home/srujan/.local/lib/python3.10/site-packages (from torch>=1.8.0->ultralytics) (12.1.105)\n",
      "Requirement already satisfied: nvidia-cuda-cupti-cu12==12.1.105 in /home/srujan/.local/lib/python3.10/site-packages (from torch>=1.8.0->ultralytics) (12.1.105)\n",
      "Requirement already satisfied: jinja2 in /home/srujan/.local/lib/python3.10/site-packages (from torch>=1.8.0->ultralytics) (3.1.4)\n",
      "Requirement already satisfied: fsspec in /home/srujan/.local/lib/python3.10/site-packages (from torch>=1.8.0->ultralytics) (2024.5.0)\n",
      "Requirement already satisfied: nvidia-cuda-runtime-cu12==12.1.105 in /home/srujan/.local/lib/python3.10/site-packages (from torch>=1.8.0->ultralytics) (12.1.105)\n",
      "Requirement already satisfied: sympy in /home/srujan/.local/lib/python3.10/site-packages (from torch>=1.8.0->ultralytics) (1.12.1)\n",
      "Requirement already satisfied: nvidia-cufft-cu12==11.0.2.54 in /home/srujan/.local/lib/python3.10/site-packages (from torch>=1.8.0->ultralytics) (11.0.2.54)\n",
      "Requirement already satisfied: nvidia-cusolver-cu12==11.4.5.107 in /home/srujan/.local/lib/python3.10/site-packages (from torch>=1.8.0->ultralytics) (11.4.5.107)\n",
      "Requirement already satisfied: typing-extensions>=4.8.0 in /home/srujan/.local/lib/python3.10/site-packages (from torch>=1.8.0->ultralytics) (4.12.2)\n",
      "Requirement already satisfied: nvidia-cudnn-cu12==8.9.2.26 in /home/srujan/.local/lib/python3.10/site-packages (from torch>=1.8.0->ultralytics) (8.9.2.26)\n",
      "Requirement already satisfied: nvidia-curand-cu12==10.3.2.106 in /home/srujan/.local/lib/python3.10/site-packages (from torch>=1.8.0->ultralytics) (10.3.2.106)\n",
      "Requirement already satisfied: nvidia-cusparse-cu12==12.1.0.106 in /home/srujan/.local/lib/python3.10/site-packages (from torch>=1.8.0->ultralytics) (12.1.0.106)\n",
      "Requirement already satisfied: nvidia-nccl-cu12==2.20.5 in /home/srujan/.local/lib/python3.10/site-packages (from torch>=1.8.0->ultralytics) (2.20.5)\n",
      "Requirement already satisfied: networkx in /home/srujan/.local/lib/python3.10/site-packages (from torch>=1.8.0->ultralytics) (3.3)\n",
      "Requirement already satisfied: nvidia-cuda-nvrtc-cu12==12.1.105 in /home/srujan/.local/lib/python3.10/site-packages (from torch>=1.8.0->ultralytics) (12.1.105)\n",
      "Requirement already satisfied: filelock in /home/srujan/.local/lib/python3.10/site-packages (from torch>=1.8.0->ultralytics) (3.15.4)\n",
      "Requirement already satisfied: nvidia-cublas-cu12==12.1.3.1 in /home/srujan/.local/lib/python3.10/site-packages (from torch>=1.8.0->ultralytics) (12.1.3.1)\n",
      "Requirement already satisfied: nvidia-nvjitlink-cu12 in /home/srujan/.local/lib/python3.10/site-packages (from nvidia-cusolver-cu12==11.4.5.107->torch>=1.8.0->ultralytics) (12.5.82)\n",
      "Requirement already satisfied: MarkupSafe>=2.0 in /home/srujan/.local/lib/python3.10/site-packages (from jinja2->torch>=1.8.0->ultralytics) (2.1.5)\n",
      "Requirement already satisfied: mpmath<1.4.0,>=1.1.0 in /home/srujan/.local/lib/python3.10/site-packages (from sympy->torch>=1.8.0->ultralytics) (1.3.0)\n"
     ]
    }
   ],
   "source": [
    "!pip install ultralytics opencv-python matplotlib"
   ]
  },
  {
   "cell_type": "markdown",
   "metadata": {},
   "source": [
    "model training"
   ]
  },
  {
   "cell_type": "code",
   "execution_count": 5,
   "metadata": {},
   "outputs": [
    {
     "name": "stdout",
     "output_type": "stream",
     "text": [
      "Annotations converted to YOLO format!\n"
     ]
    }
   ],
   "source": [
    "import os\n",
    "import xml.etree.ElementTree as ET\n",
    "\n",
    "def convert_voc_to_yolo(voc_dir, output_dir, classes):\n",
    "    if not os.path.exists(output_dir):\n",
    "        os.makedirs(output_dir)\n",
    "\n",
    "    for xml_file in os.listdir(voc_dir):\n",
    "        if not xml_file.endswith(\".xml\"):\n",
    "            continue\n",
    "\n",
    "        # Parse XML\n",
    "        tree = ET.parse(os.path.join(voc_dir, xml_file))\n",
    "        root = tree.getroot()\n",
    "\n",
    "        # Image dimensions\n",
    "        width = int(root.find(\"size/width\").text)\n",
    "        height = int(root.find(\"size/height\").text)\n",
    "\n",
    "        yolo_annotations = []\n",
    "        for obj in root.findall(\"object\"):\n",
    "            class_name = obj.find(\"name\").text\n",
    "            if class_name not in classes:\n",
    "                continue\n",
    "            class_id = classes.index(class_name)\n",
    "\n",
    "            # Get bounding box coordinates\n",
    "            bbox = obj.find(\"bndbox\")\n",
    "            xmin = int(bbox.find(\"xmin\").text)\n",
    "            ymin = int(bbox.find(\"ymin\").text)\n",
    "            xmax = int(bbox.find(\"xmax\").text)\n",
    "            ymax = int(bbox.find(\"ymax\").text)\n",
    "\n",
    "            # Convert to YOLO format\n",
    "            x_center = ((xmin + xmax) / 2) / width\n",
    "            y_center = ((ymin + ymax) / 2) / height\n",
    "            bbox_width = (xmax - xmin) / width\n",
    "            bbox_height = (ymax - ymin) / height\n",
    "\n",
    "            yolo_annotations.append(f\"{class_id} {x_center} {y_center} {bbox_width} {bbox_height}\")\n",
    "\n",
    "        # Save YOLO annotations\n",
    "        txt_file = os.path.join(output_dir, xml_file.replace(\".xml\", \".txt\"))\n",
    "        with open(txt_file, \"w\") as f:\n",
    "            f.write(\"\\n\".join(yolo_annotations))\n",
    "\n",
    "# Specify paths and classes\n",
    "train_voc_dir = \"DatasetSplit/train/annotations\"\n",
    "val_voc_dir = \"DatasetSplit/val/annotations\"\n",
    "train_yolo_dir = \"DatasetSplit/train/labels\"\n",
    "val_yolo_dir = \"DatasetSplit/val/labels\"\n",
    "classes = [\"pothole\"]  # Add more classes if needed\n",
    "\n",
    "# Convert train and val annotations\n",
    "convert_voc_to_yolo(train_voc_dir, train_yolo_dir, classes)\n",
    "convert_voc_to_yolo(val_voc_dir, val_yolo_dir, classes)\n",
    "\n",
    "print(\"Annotations converted to YOLO format!\")\n"
   ]
  }
 ],
 "metadata": {
  "kernelspec": {
   "display_name": "Python 3",
   "language": "python",
   "name": "python3"
  },
  "language_info": {
   "codemirror_mode": {
    "name": "ipython",
    "version": 3
   },
   "file_extension": ".py",
   "mimetype": "text/x-python",
   "name": "python",
   "nbconvert_exporter": "python",
   "pygments_lexer": "ipython3",
   "version": "3.10.12"
  }
 },
 "nbformat": 4,
 "nbformat_minor": 2
}
